{
 "cells": [
  {
   "cell_type": "code",
   "execution_count": 1,
   "metadata": {
    "collapsed": true
   },
   "outputs": [],
   "source": [
    "import pandas as pd\n",
    "import numpy as np\n"
   ]
  },
  {
   "cell_type": "markdown",
   "metadata": {},
   "source": [
    "##### set the path to where you downloaded.. please change my path because it is located at my personal computer."
   ]
  },
  {
   "cell_type": "code",
   "execution_count": 2,
   "metadata": {
    "collapsed": true
   },
   "outputs": [],
   "source": [
    "train = pd.read_csv(\"F:\\Micromax\\downloads\\data_sets\\Hackerearth_ML_predict_happiness/train_happi.csv\")"
   ]
  },
  {
   "cell_type": "code",
   "execution_count": 3,
   "metadata": {},
   "outputs": [
    {
     "data": {
      "text/html": [
       "<div>\n",
       "<style>\n",
       "    .dataframe thead tr:only-child th {\n",
       "        text-align: right;\n",
       "    }\n",
       "\n",
       "    .dataframe thead th {\n",
       "        text-align: left;\n",
       "    }\n",
       "\n",
       "    .dataframe tbody tr th {\n",
       "        vertical-align: top;\n",
       "    }\n",
       "</style>\n",
       "<table border=\"1\" class=\"dataframe\">\n",
       "  <thead>\n",
       "    <tr style=\"text-align: right;\">\n",
       "      <th></th>\n",
       "      <th>User_ID</th>\n",
       "      <th>Description</th>\n",
       "      <th>Browser_Used</th>\n",
       "      <th>Device_Used</th>\n",
       "      <th>Is_Response</th>\n",
       "    </tr>\n",
       "  </thead>\n",
       "  <tbody>\n",
       "    <tr>\n",
       "      <th>0</th>\n",
       "      <td>id10326</td>\n",
       "      <td>The room was kind of clean but had a VERY stro...</td>\n",
       "      <td>Edge</td>\n",
       "      <td>Mobile</td>\n",
       "      <td>not happy</td>\n",
       "    </tr>\n",
       "    <tr>\n",
       "      <th>1</th>\n",
       "      <td>id10327</td>\n",
       "      <td>I stayed at the Crown Plaza April -- - April -...</td>\n",
       "      <td>Internet Explorer</td>\n",
       "      <td>Mobile</td>\n",
       "      <td>not happy</td>\n",
       "    </tr>\n",
       "    <tr>\n",
       "      <th>2</th>\n",
       "      <td>id10328</td>\n",
       "      <td>I booked this hotel through Hotwire at the low...</td>\n",
       "      <td>Mozilla</td>\n",
       "      <td>Tablet</td>\n",
       "      <td>not happy</td>\n",
       "    </tr>\n",
       "    <tr>\n",
       "      <th>3</th>\n",
       "      <td>id10329</td>\n",
       "      <td>Stayed here with husband and sons on the way t...</td>\n",
       "      <td>InternetExplorer</td>\n",
       "      <td>Desktop</td>\n",
       "      <td>happy</td>\n",
       "    </tr>\n",
       "    <tr>\n",
       "      <th>4</th>\n",
       "      <td>id10330</td>\n",
       "      <td>My girlfriends and I stayed here to celebrate ...</td>\n",
       "      <td>Edge</td>\n",
       "      <td>Tablet</td>\n",
       "      <td>not happy</td>\n",
       "    </tr>\n",
       "  </tbody>\n",
       "</table>\n",
       "</div>"
      ],
      "text/plain": [
       "   User_ID                                        Description  \\\n",
       "0  id10326  The room was kind of clean but had a VERY stro...   \n",
       "1  id10327  I stayed at the Crown Plaza April -- - April -...   \n",
       "2  id10328  I booked this hotel through Hotwire at the low...   \n",
       "3  id10329  Stayed here with husband and sons on the way t...   \n",
       "4  id10330  My girlfriends and I stayed here to celebrate ...   \n",
       "\n",
       "        Browser_Used Device_Used Is_Response  \n",
       "0               Edge      Mobile   not happy  \n",
       "1  Internet Explorer      Mobile   not happy  \n",
       "2            Mozilla      Tablet   not happy  \n",
       "3   InternetExplorer     Desktop       happy  \n",
       "4               Edge      Tablet   not happy  "
      ]
     },
     "execution_count": 3,
     "metadata": {},
     "output_type": "execute_result"
    }
   ],
   "source": [
    "train.head()"
   ]
  },
  {
   "cell_type": "code",
   "execution_count": 4,
   "metadata": {},
   "outputs": [
    {
     "data": {
      "text/plain": [
       "happy        26521\n",
       "not happy    12411\n",
       "Name: Is_Response, dtype: int64"
      ]
     },
     "execution_count": 4,
     "metadata": {},
     "output_type": "execute_result"
    }
   ],
   "source": [
    "train.Is_Response.value_counts()"
   ]
  },
  {
   "cell_type": "markdown",
   "metadata": {},
   "source": [
    "# happy=1      not happy=0"
   ]
  },
  {
   "cell_type": "code",
   "execution_count": 5,
   "metadata": {
    "collapsed": true
   },
   "outputs": [],
   "source": [
    "train['Is_Response_val'] = train.Is_Response.map({'happy':1, 'not happy':0})"
   ]
  },
  {
   "cell_type": "code",
   "execution_count": 6,
   "metadata": {},
   "outputs": [
    {
     "data": {
      "text/html": [
       "<div>\n",
       "<style>\n",
       "    .dataframe thead tr:only-child th {\n",
       "        text-align: right;\n",
       "    }\n",
       "\n",
       "    .dataframe thead th {\n",
       "        text-align: left;\n",
       "    }\n",
       "\n",
       "    .dataframe tbody tr th {\n",
       "        vertical-align: top;\n",
       "    }\n",
       "</style>\n",
       "<table border=\"1\" class=\"dataframe\">\n",
       "  <thead>\n",
       "    <tr style=\"text-align: right;\">\n",
       "      <th></th>\n",
       "      <th>User_ID</th>\n",
       "      <th>Description</th>\n",
       "      <th>Browser_Used</th>\n",
       "      <th>Device_Used</th>\n",
       "      <th>Is_Response</th>\n",
       "      <th>Is_Response_val</th>\n",
       "    </tr>\n",
       "  </thead>\n",
       "  <tbody>\n",
       "    <tr>\n",
       "      <th>0</th>\n",
       "      <td>id10326</td>\n",
       "      <td>The room was kind of clean but had a VERY stro...</td>\n",
       "      <td>Edge</td>\n",
       "      <td>Mobile</td>\n",
       "      <td>not happy</td>\n",
       "      <td>0</td>\n",
       "    </tr>\n",
       "    <tr>\n",
       "      <th>1</th>\n",
       "      <td>id10327</td>\n",
       "      <td>I stayed at the Crown Plaza April -- - April -...</td>\n",
       "      <td>Internet Explorer</td>\n",
       "      <td>Mobile</td>\n",
       "      <td>not happy</td>\n",
       "      <td>0</td>\n",
       "    </tr>\n",
       "    <tr>\n",
       "      <th>2</th>\n",
       "      <td>id10328</td>\n",
       "      <td>I booked this hotel through Hotwire at the low...</td>\n",
       "      <td>Mozilla</td>\n",
       "      <td>Tablet</td>\n",
       "      <td>not happy</td>\n",
       "      <td>0</td>\n",
       "    </tr>\n",
       "    <tr>\n",
       "      <th>3</th>\n",
       "      <td>id10329</td>\n",
       "      <td>Stayed here with husband and sons on the way t...</td>\n",
       "      <td>InternetExplorer</td>\n",
       "      <td>Desktop</td>\n",
       "      <td>happy</td>\n",
       "      <td>1</td>\n",
       "    </tr>\n",
       "    <tr>\n",
       "      <th>4</th>\n",
       "      <td>id10330</td>\n",
       "      <td>My girlfriends and I stayed here to celebrate ...</td>\n",
       "      <td>Edge</td>\n",
       "      <td>Tablet</td>\n",
       "      <td>not happy</td>\n",
       "      <td>0</td>\n",
       "    </tr>\n",
       "  </tbody>\n",
       "</table>\n",
       "</div>"
      ],
      "text/plain": [
       "   User_ID                                        Description  \\\n",
       "0  id10326  The room was kind of clean but had a VERY stro...   \n",
       "1  id10327  I stayed at the Crown Plaza April -- - April -...   \n",
       "2  id10328  I booked this hotel through Hotwire at the low...   \n",
       "3  id10329  Stayed here with husband and sons on the way t...   \n",
       "4  id10330  My girlfriends and I stayed here to celebrate ...   \n",
       "\n",
       "        Browser_Used Device_Used Is_Response  Is_Response_val  \n",
       "0               Edge      Mobile   not happy                0  \n",
       "1  Internet Explorer      Mobile   not happy                0  \n",
       "2            Mozilla      Tablet   not happy                0  \n",
       "3   InternetExplorer     Desktop       happy                1  \n",
       "4               Edge      Tablet   not happy                0  "
      ]
     },
     "execution_count": 6,
     "metadata": {},
     "output_type": "execute_result"
    }
   ],
   "source": [
    "train.head()"
   ]
  },
  {
   "cell_type": "markdown",
   "metadata": {},
   "source": [
    "# Browser Mapping"
   ]
  },
  {
   "cell_type": "code",
   "execution_count": null,
   "metadata": {
    "collapsed": true
   },
   "outputs": [],
   "source": []
  },
  {
   "cell_type": "code",
   "execution_count": 7,
   "metadata": {},
   "outputs": [
    {
     "data": {
      "text/plain": [
       "Firefox              7367\n",
       "Edge                 7134\n",
       "Google Chrome        4659\n",
       "InternetExplorer     4588\n",
       "Mozilla Firefox      4328\n",
       "Mozilla              3092\n",
       "Chrome               2470\n",
       "IE                   2439\n",
       "Internet Explorer    2103\n",
       "Safari                390\n",
       "Opera                 362\n",
       "Name: Browser_Used, dtype: int64"
      ]
     },
     "execution_count": 7,
     "metadata": {},
     "output_type": "execute_result"
    }
   ],
   "source": [
    "train.Browser_Used.value_counts()"
   ]
  },
  {
   "cell_type": "code",
   "execution_count": 8,
   "metadata": {
    "collapsed": true
   },
   "outputs": [],
   "source": [
    "train['Browser_Used'] = train.Browser_Used.map({'Edge':'Edge','Safari':'Safari','Opera':'Opera','Mozilla Firefox':'Firefox', 'Mozilla':'Firefox','InternetExplorer':'IE', 'Internet Explorer':'IE','Google Chrome':'Chrome'})"
   ]
  },
  {
   "cell_type": "code",
   "execution_count": 9,
   "metadata": {},
   "outputs": [
    {
     "data": {
      "text/plain": [
       "Firefox    7420\n",
       "Edge       7134\n",
       "IE         6691\n",
       "Chrome     4659\n",
       "Safari      390\n",
       "Opera       362\n",
       "Name: Browser_Used, dtype: int64"
      ]
     },
     "execution_count": 9,
     "metadata": {},
     "output_type": "execute_result"
    }
   ],
   "source": [
    "train.Browser_Used.value_counts()"
   ]
  },
  {
   "cell_type": "code",
   "execution_count": 10,
   "metadata": {
    "collapsed": true
   },
   "outputs": [],
   "source": [
    "col_data = pd.get_dummies(train.Browser_Used, prefix = 'Browser')"
   ]
  },
  {
   "cell_type": "code",
   "execution_count": 11,
   "metadata": {
    "collapsed": true
   },
   "outputs": [],
   "source": [
    "train = train.join(col_data)"
   ]
  },
  {
   "cell_type": "code",
   "execution_count": 12,
   "metadata": {},
   "outputs": [
    {
     "data": {
      "text/html": [
       "<div>\n",
       "<style>\n",
       "    .dataframe thead tr:only-child th {\n",
       "        text-align: right;\n",
       "    }\n",
       "\n",
       "    .dataframe thead th {\n",
       "        text-align: left;\n",
       "    }\n",
       "\n",
       "    .dataframe tbody tr th {\n",
       "        vertical-align: top;\n",
       "    }\n",
       "</style>\n",
       "<table border=\"1\" class=\"dataframe\">\n",
       "  <thead>\n",
       "    <tr style=\"text-align: right;\">\n",
       "      <th></th>\n",
       "      <th>User_ID</th>\n",
       "      <th>Description</th>\n",
       "      <th>Browser_Used</th>\n",
       "      <th>Device_Used</th>\n",
       "      <th>Is_Response</th>\n",
       "      <th>Is_Response_val</th>\n",
       "      <th>Browser_Chrome</th>\n",
       "      <th>Browser_Edge</th>\n",
       "      <th>Browser_Firefox</th>\n",
       "      <th>Browser_IE</th>\n",
       "      <th>Browser_Opera</th>\n",
       "      <th>Browser_Safari</th>\n",
       "    </tr>\n",
       "  </thead>\n",
       "  <tbody>\n",
       "    <tr>\n",
       "      <th>0</th>\n",
       "      <td>id10326</td>\n",
       "      <td>The room was kind of clean but had a VERY stro...</td>\n",
       "      <td>Edge</td>\n",
       "      <td>Mobile</td>\n",
       "      <td>not happy</td>\n",
       "      <td>0</td>\n",
       "      <td>0</td>\n",
       "      <td>1</td>\n",
       "      <td>0</td>\n",
       "      <td>0</td>\n",
       "      <td>0</td>\n",
       "      <td>0</td>\n",
       "    </tr>\n",
       "    <tr>\n",
       "      <th>1</th>\n",
       "      <td>id10327</td>\n",
       "      <td>I stayed at the Crown Plaza April -- - April -...</td>\n",
       "      <td>IE</td>\n",
       "      <td>Mobile</td>\n",
       "      <td>not happy</td>\n",
       "      <td>0</td>\n",
       "      <td>0</td>\n",
       "      <td>0</td>\n",
       "      <td>0</td>\n",
       "      <td>1</td>\n",
       "      <td>0</td>\n",
       "      <td>0</td>\n",
       "    </tr>\n",
       "    <tr>\n",
       "      <th>2</th>\n",
       "      <td>id10328</td>\n",
       "      <td>I booked this hotel through Hotwire at the low...</td>\n",
       "      <td>Firefox</td>\n",
       "      <td>Tablet</td>\n",
       "      <td>not happy</td>\n",
       "      <td>0</td>\n",
       "      <td>0</td>\n",
       "      <td>0</td>\n",
       "      <td>1</td>\n",
       "      <td>0</td>\n",
       "      <td>0</td>\n",
       "      <td>0</td>\n",
       "    </tr>\n",
       "    <tr>\n",
       "      <th>3</th>\n",
       "      <td>id10329</td>\n",
       "      <td>Stayed here with husband and sons on the way t...</td>\n",
       "      <td>IE</td>\n",
       "      <td>Desktop</td>\n",
       "      <td>happy</td>\n",
       "      <td>1</td>\n",
       "      <td>0</td>\n",
       "      <td>0</td>\n",
       "      <td>0</td>\n",
       "      <td>1</td>\n",
       "      <td>0</td>\n",
       "      <td>0</td>\n",
       "    </tr>\n",
       "    <tr>\n",
       "      <th>4</th>\n",
       "      <td>id10330</td>\n",
       "      <td>My girlfriends and I stayed here to celebrate ...</td>\n",
       "      <td>Edge</td>\n",
       "      <td>Tablet</td>\n",
       "      <td>not happy</td>\n",
       "      <td>0</td>\n",
       "      <td>0</td>\n",
       "      <td>1</td>\n",
       "      <td>0</td>\n",
       "      <td>0</td>\n",
       "      <td>0</td>\n",
       "      <td>0</td>\n",
       "    </tr>\n",
       "  </tbody>\n",
       "</table>\n",
       "</div>"
      ],
      "text/plain": [
       "   User_ID                                        Description Browser_Used  \\\n",
       "0  id10326  The room was kind of clean but had a VERY stro...         Edge   \n",
       "1  id10327  I stayed at the Crown Plaza April -- - April -...           IE   \n",
       "2  id10328  I booked this hotel through Hotwire at the low...      Firefox   \n",
       "3  id10329  Stayed here with husband and sons on the way t...           IE   \n",
       "4  id10330  My girlfriends and I stayed here to celebrate ...         Edge   \n",
       "\n",
       "  Device_Used Is_Response  Is_Response_val  Browser_Chrome  Browser_Edge  \\\n",
       "0      Mobile   not happy                0               0             1   \n",
       "1      Mobile   not happy                0               0             0   \n",
       "2      Tablet   not happy                0               0             0   \n",
       "3     Desktop       happy                1               0             0   \n",
       "4      Tablet   not happy                0               0             1   \n",
       "\n",
       "   Browser_Firefox  Browser_IE  Browser_Opera  Browser_Safari  \n",
       "0                0           0              0               0  \n",
       "1                0           1              0               0  \n",
       "2                1           0              0               0  \n",
       "3                0           1              0               0  \n",
       "4                0           0              0               0  "
      ]
     },
     "execution_count": 12,
     "metadata": {},
     "output_type": "execute_result"
    }
   ],
   "source": [
    "train.head()"
   ]
  },
  {
   "cell_type": "markdown",
   "metadata": {},
   "source": [
    "# Device "
   ]
  },
  {
   "cell_type": "code",
   "execution_count": 13,
   "metadata": {
    "collapsed": true
   },
   "outputs": [],
   "source": [
    "dummies_Device = pd.get_dummies(train.Device_Used, prefix = 'Device')"
   ]
  },
  {
   "cell_type": "code",
   "execution_count": 14,
   "metadata": {
    "collapsed": true
   },
   "outputs": [],
   "source": [
    "train = train.join(dummies_Device)"
   ]
  },
  {
   "cell_type": "code",
   "execution_count": 15,
   "metadata": {},
   "outputs": [
    {
     "data": {
      "text/html": [
       "<div>\n",
       "<style>\n",
       "    .dataframe thead tr:only-child th {\n",
       "        text-align: right;\n",
       "    }\n",
       "\n",
       "    .dataframe thead th {\n",
       "        text-align: left;\n",
       "    }\n",
       "\n",
       "    .dataframe tbody tr th {\n",
       "        vertical-align: top;\n",
       "    }\n",
       "</style>\n",
       "<table border=\"1\" class=\"dataframe\">\n",
       "  <thead>\n",
       "    <tr style=\"text-align: right;\">\n",
       "      <th></th>\n",
       "      <th>User_ID</th>\n",
       "      <th>Description</th>\n",
       "      <th>Browser_Used</th>\n",
       "      <th>Device_Used</th>\n",
       "      <th>Is_Response</th>\n",
       "      <th>Is_Response_val</th>\n",
       "      <th>Browser_Chrome</th>\n",
       "      <th>Browser_Edge</th>\n",
       "      <th>Browser_Firefox</th>\n",
       "      <th>Browser_IE</th>\n",
       "      <th>Browser_Opera</th>\n",
       "      <th>Browser_Safari</th>\n",
       "      <th>Device_Desktop</th>\n",
       "      <th>Device_Mobile</th>\n",
       "      <th>Device_Tablet</th>\n",
       "    </tr>\n",
       "  </thead>\n",
       "  <tbody>\n",
       "    <tr>\n",
       "      <th>0</th>\n",
       "      <td>id10326</td>\n",
       "      <td>The room was kind of clean but had a VERY stro...</td>\n",
       "      <td>Edge</td>\n",
       "      <td>Mobile</td>\n",
       "      <td>not happy</td>\n",
       "      <td>0</td>\n",
       "      <td>0</td>\n",
       "      <td>1</td>\n",
       "      <td>0</td>\n",
       "      <td>0</td>\n",
       "      <td>0</td>\n",
       "      <td>0</td>\n",
       "      <td>0</td>\n",
       "      <td>1</td>\n",
       "      <td>0</td>\n",
       "    </tr>\n",
       "    <tr>\n",
       "      <th>1</th>\n",
       "      <td>id10327</td>\n",
       "      <td>I stayed at the Crown Plaza April -- - April -...</td>\n",
       "      <td>IE</td>\n",
       "      <td>Mobile</td>\n",
       "      <td>not happy</td>\n",
       "      <td>0</td>\n",
       "      <td>0</td>\n",
       "      <td>0</td>\n",
       "      <td>0</td>\n",
       "      <td>1</td>\n",
       "      <td>0</td>\n",
       "      <td>0</td>\n",
       "      <td>0</td>\n",
       "      <td>1</td>\n",
       "      <td>0</td>\n",
       "    </tr>\n",
       "    <tr>\n",
       "      <th>2</th>\n",
       "      <td>id10328</td>\n",
       "      <td>I booked this hotel through Hotwire at the low...</td>\n",
       "      <td>Firefox</td>\n",
       "      <td>Tablet</td>\n",
       "      <td>not happy</td>\n",
       "      <td>0</td>\n",
       "      <td>0</td>\n",
       "      <td>0</td>\n",
       "      <td>1</td>\n",
       "      <td>0</td>\n",
       "      <td>0</td>\n",
       "      <td>0</td>\n",
       "      <td>0</td>\n",
       "      <td>0</td>\n",
       "      <td>1</td>\n",
       "    </tr>\n",
       "    <tr>\n",
       "      <th>3</th>\n",
       "      <td>id10329</td>\n",
       "      <td>Stayed here with husband and sons on the way t...</td>\n",
       "      <td>IE</td>\n",
       "      <td>Desktop</td>\n",
       "      <td>happy</td>\n",
       "      <td>1</td>\n",
       "      <td>0</td>\n",
       "      <td>0</td>\n",
       "      <td>0</td>\n",
       "      <td>1</td>\n",
       "      <td>0</td>\n",
       "      <td>0</td>\n",
       "      <td>1</td>\n",
       "      <td>0</td>\n",
       "      <td>0</td>\n",
       "    </tr>\n",
       "    <tr>\n",
       "      <th>4</th>\n",
       "      <td>id10330</td>\n",
       "      <td>My girlfriends and I stayed here to celebrate ...</td>\n",
       "      <td>Edge</td>\n",
       "      <td>Tablet</td>\n",
       "      <td>not happy</td>\n",
       "      <td>0</td>\n",
       "      <td>0</td>\n",
       "      <td>1</td>\n",
       "      <td>0</td>\n",
       "      <td>0</td>\n",
       "      <td>0</td>\n",
       "      <td>0</td>\n",
       "      <td>0</td>\n",
       "      <td>0</td>\n",
       "      <td>1</td>\n",
       "    </tr>\n",
       "  </tbody>\n",
       "</table>\n",
       "</div>"
      ],
      "text/plain": [
       "   User_ID                                        Description Browser_Used  \\\n",
       "0  id10326  The room was kind of clean but had a VERY stro...         Edge   \n",
       "1  id10327  I stayed at the Crown Plaza April -- - April -...           IE   \n",
       "2  id10328  I booked this hotel through Hotwire at the low...      Firefox   \n",
       "3  id10329  Stayed here with husband and sons on the way t...           IE   \n",
       "4  id10330  My girlfriends and I stayed here to celebrate ...         Edge   \n",
       "\n",
       "  Device_Used Is_Response  Is_Response_val  Browser_Chrome  Browser_Edge  \\\n",
       "0      Mobile   not happy                0               0             1   \n",
       "1      Mobile   not happy                0               0             0   \n",
       "2      Tablet   not happy                0               0             0   \n",
       "3     Desktop       happy                1               0             0   \n",
       "4      Tablet   not happy                0               0             1   \n",
       "\n",
       "   Browser_Firefox  Browser_IE  Browser_Opera  Browser_Safari  Device_Desktop  \\\n",
       "0                0           0              0               0               0   \n",
       "1                0           1              0               0               0   \n",
       "2                1           0              0               0               0   \n",
       "3                0           1              0               0               1   \n",
       "4                0           0              0               0               0   \n",
       "\n",
       "   Device_Mobile  Device_Tablet  \n",
       "0              1              0  \n",
       "1              1              0  \n",
       "2              0              1  \n",
       "3              0              0  \n",
       "4              0              1  "
      ]
     },
     "execution_count": 15,
     "metadata": {},
     "output_type": "execute_result"
    }
   ],
   "source": [
    "train.head()"
   ]
  },
  {
   "cell_type": "markdown",
   "metadata": {},
   "source": [
    "# dropping extra col"
   ]
  },
  {
   "cell_type": "code",
   "execution_count": 16,
   "metadata": {
    "collapsed": true
   },
   "outputs": [],
   "source": [
    "train.drop(['Device_Used','Browser_Used','Is_Response','User_ID'],axis = 1, inplace = True)"
   ]
  },
  {
   "cell_type": "code",
   "execution_count": 17,
   "metadata": {},
   "outputs": [
    {
     "data": {
      "text/html": [
       "<div>\n",
       "<style>\n",
       "    .dataframe thead tr:only-child th {\n",
       "        text-align: right;\n",
       "    }\n",
       "\n",
       "    .dataframe thead th {\n",
       "        text-align: left;\n",
       "    }\n",
       "\n",
       "    .dataframe tbody tr th {\n",
       "        vertical-align: top;\n",
       "    }\n",
       "</style>\n",
       "<table border=\"1\" class=\"dataframe\">\n",
       "  <thead>\n",
       "    <tr style=\"text-align: right;\">\n",
       "      <th></th>\n",
       "      <th>Description</th>\n",
       "      <th>Is_Response_val</th>\n",
       "      <th>Browser_Chrome</th>\n",
       "      <th>Browser_Edge</th>\n",
       "      <th>Browser_Firefox</th>\n",
       "      <th>Browser_IE</th>\n",
       "      <th>Browser_Opera</th>\n",
       "      <th>Browser_Safari</th>\n",
       "      <th>Device_Desktop</th>\n",
       "      <th>Device_Mobile</th>\n",
       "      <th>Device_Tablet</th>\n",
       "    </tr>\n",
       "  </thead>\n",
       "  <tbody>\n",
       "    <tr>\n",
       "      <th>0</th>\n",
       "      <td>The room was kind of clean but had a VERY stro...</td>\n",
       "      <td>0</td>\n",
       "      <td>0</td>\n",
       "      <td>1</td>\n",
       "      <td>0</td>\n",
       "      <td>0</td>\n",
       "      <td>0</td>\n",
       "      <td>0</td>\n",
       "      <td>0</td>\n",
       "      <td>1</td>\n",
       "      <td>0</td>\n",
       "    </tr>\n",
       "    <tr>\n",
       "      <th>1</th>\n",
       "      <td>I stayed at the Crown Plaza April -- - April -...</td>\n",
       "      <td>0</td>\n",
       "      <td>0</td>\n",
       "      <td>0</td>\n",
       "      <td>0</td>\n",
       "      <td>1</td>\n",
       "      <td>0</td>\n",
       "      <td>0</td>\n",
       "      <td>0</td>\n",
       "      <td>1</td>\n",
       "      <td>0</td>\n",
       "    </tr>\n",
       "    <tr>\n",
       "      <th>2</th>\n",
       "      <td>I booked this hotel through Hotwire at the low...</td>\n",
       "      <td>0</td>\n",
       "      <td>0</td>\n",
       "      <td>0</td>\n",
       "      <td>1</td>\n",
       "      <td>0</td>\n",
       "      <td>0</td>\n",
       "      <td>0</td>\n",
       "      <td>0</td>\n",
       "      <td>0</td>\n",
       "      <td>1</td>\n",
       "    </tr>\n",
       "    <tr>\n",
       "      <th>3</th>\n",
       "      <td>Stayed here with husband and sons on the way t...</td>\n",
       "      <td>1</td>\n",
       "      <td>0</td>\n",
       "      <td>0</td>\n",
       "      <td>0</td>\n",
       "      <td>1</td>\n",
       "      <td>0</td>\n",
       "      <td>0</td>\n",
       "      <td>1</td>\n",
       "      <td>0</td>\n",
       "      <td>0</td>\n",
       "    </tr>\n",
       "    <tr>\n",
       "      <th>4</th>\n",
       "      <td>My girlfriends and I stayed here to celebrate ...</td>\n",
       "      <td>0</td>\n",
       "      <td>0</td>\n",
       "      <td>1</td>\n",
       "      <td>0</td>\n",
       "      <td>0</td>\n",
       "      <td>0</td>\n",
       "      <td>0</td>\n",
       "      <td>0</td>\n",
       "      <td>0</td>\n",
       "      <td>1</td>\n",
       "    </tr>\n",
       "  </tbody>\n",
       "</table>\n",
       "</div>"
      ],
      "text/plain": [
       "                                         Description  Is_Response_val  \\\n",
       "0  The room was kind of clean but had a VERY stro...                0   \n",
       "1  I stayed at the Crown Plaza April -- - April -...                0   \n",
       "2  I booked this hotel through Hotwire at the low...                0   \n",
       "3  Stayed here with husband and sons on the way t...                1   \n",
       "4  My girlfriends and I stayed here to celebrate ...                0   \n",
       "\n",
       "   Browser_Chrome  Browser_Edge  Browser_Firefox  Browser_IE  Browser_Opera  \\\n",
       "0               0             1                0           0              0   \n",
       "1               0             0                0           1              0   \n",
       "2               0             0                1           0              0   \n",
       "3               0             0                0           1              0   \n",
       "4               0             1                0           0              0   \n",
       "\n",
       "   Browser_Safari  Device_Desktop  Device_Mobile  Device_Tablet  \n",
       "0               0               0              1              0  \n",
       "1               0               0              1              0  \n",
       "2               0               0              0              1  \n",
       "3               0               1              0              0  \n",
       "4               0               0              0              1  "
      ]
     },
     "execution_count": 17,
     "metadata": {},
     "output_type": "execute_result"
    }
   ],
   "source": [
    "train.head()"
   ]
  },
  {
   "cell_type": "markdown",
   "metadata": {
    "collapsed": true
   },
   "source": [
    "# y train"
   ]
  },
  {
   "cell_type": "code",
   "execution_count": 18,
   "metadata": {
    "collapsed": true
   },
   "outputs": [],
   "source": [
    "y = train.Is_Response_val"
   ]
  },
  {
   "cell_type": "code",
   "execution_count": 19,
   "metadata": {
    "collapsed": true
   },
   "outputs": [],
   "source": [
    "train.drop(['Is_Response_val'],axis = 1, inplace = True)"
   ]
  },
  {
   "cell_type": "code",
   "execution_count": 20,
   "metadata": {
    "collapsed": true
   },
   "outputs": [],
   "source": [
    "X = train"
   ]
  },
  {
   "cell_type": "code",
   "execution_count": 21,
   "metadata": {},
   "outputs": [
    {
     "data": {
      "text/html": [
       "<div>\n",
       "<style>\n",
       "    .dataframe thead tr:only-child th {\n",
       "        text-align: right;\n",
       "    }\n",
       "\n",
       "    .dataframe thead th {\n",
       "        text-align: left;\n",
       "    }\n",
       "\n",
       "    .dataframe tbody tr th {\n",
       "        vertical-align: top;\n",
       "    }\n",
       "</style>\n",
       "<table border=\"1\" class=\"dataframe\">\n",
       "  <thead>\n",
       "    <tr style=\"text-align: right;\">\n",
       "      <th></th>\n",
       "      <th>Description</th>\n",
       "      <th>Browser_Chrome</th>\n",
       "      <th>Browser_Edge</th>\n",
       "      <th>Browser_Firefox</th>\n",
       "      <th>Browser_IE</th>\n",
       "      <th>Browser_Opera</th>\n",
       "      <th>Browser_Safari</th>\n",
       "      <th>Device_Desktop</th>\n",
       "      <th>Device_Mobile</th>\n",
       "      <th>Device_Tablet</th>\n",
       "    </tr>\n",
       "  </thead>\n",
       "  <tbody>\n",
       "    <tr>\n",
       "      <th>0</th>\n",
       "      <td>The room was kind of clean but had a VERY stro...</td>\n",
       "      <td>0</td>\n",
       "      <td>1</td>\n",
       "      <td>0</td>\n",
       "      <td>0</td>\n",
       "      <td>0</td>\n",
       "      <td>0</td>\n",
       "      <td>0</td>\n",
       "      <td>1</td>\n",
       "      <td>0</td>\n",
       "    </tr>\n",
       "    <tr>\n",
       "      <th>1</th>\n",
       "      <td>I stayed at the Crown Plaza April -- - April -...</td>\n",
       "      <td>0</td>\n",
       "      <td>0</td>\n",
       "      <td>0</td>\n",
       "      <td>1</td>\n",
       "      <td>0</td>\n",
       "      <td>0</td>\n",
       "      <td>0</td>\n",
       "      <td>1</td>\n",
       "      <td>0</td>\n",
       "    </tr>\n",
       "    <tr>\n",
       "      <th>2</th>\n",
       "      <td>I booked this hotel through Hotwire at the low...</td>\n",
       "      <td>0</td>\n",
       "      <td>0</td>\n",
       "      <td>1</td>\n",
       "      <td>0</td>\n",
       "      <td>0</td>\n",
       "      <td>0</td>\n",
       "      <td>0</td>\n",
       "      <td>0</td>\n",
       "      <td>1</td>\n",
       "    </tr>\n",
       "    <tr>\n",
       "      <th>3</th>\n",
       "      <td>Stayed here with husband and sons on the way t...</td>\n",
       "      <td>0</td>\n",
       "      <td>0</td>\n",
       "      <td>0</td>\n",
       "      <td>1</td>\n",
       "      <td>0</td>\n",
       "      <td>0</td>\n",
       "      <td>1</td>\n",
       "      <td>0</td>\n",
       "      <td>0</td>\n",
       "    </tr>\n",
       "    <tr>\n",
       "      <th>4</th>\n",
       "      <td>My girlfriends and I stayed here to celebrate ...</td>\n",
       "      <td>0</td>\n",
       "      <td>1</td>\n",
       "      <td>0</td>\n",
       "      <td>0</td>\n",
       "      <td>0</td>\n",
       "      <td>0</td>\n",
       "      <td>0</td>\n",
       "      <td>0</td>\n",
       "      <td>1</td>\n",
       "    </tr>\n",
       "  </tbody>\n",
       "</table>\n",
       "</div>"
      ],
      "text/plain": [
       "                                         Description  Browser_Chrome  \\\n",
       "0  The room was kind of clean but had a VERY stro...               0   \n",
       "1  I stayed at the Crown Plaza April -- - April -...               0   \n",
       "2  I booked this hotel through Hotwire at the low...               0   \n",
       "3  Stayed here with husband and sons on the way t...               0   \n",
       "4  My girlfriends and I stayed here to celebrate ...               0   \n",
       "\n",
       "   Browser_Edge  Browser_Firefox  Browser_IE  Browser_Opera  Browser_Safari  \\\n",
       "0             1                0           0              0               0   \n",
       "1             0                0           1              0               0   \n",
       "2             0                1           0              0               0   \n",
       "3             0                0           1              0               0   \n",
       "4             1                0           0              0               0   \n",
       "\n",
       "   Device_Desktop  Device_Mobile  Device_Tablet  \n",
       "0               0              1              0  \n",
       "1               0              1              0  \n",
       "2               0              0              1  \n",
       "3               1              0              0  \n",
       "4               0              0              1  "
      ]
     },
     "execution_count": 21,
     "metadata": {},
     "output_type": "execute_result"
    }
   ],
   "source": [
    "X.head()"
   ]
  },
  {
   "cell_type": "code",
   "execution_count": null,
   "metadata": {
    "collapsed": true
   },
   "outputs": [],
   "source": []
  },
  {
   "cell_type": "markdown",
   "metadata": {},
   "source": [
    "# splitting data"
   ]
  },
  {
   "cell_type": "code",
   "execution_count": 22,
   "metadata": {},
   "outputs": [
    {
     "name": "stderr",
     "output_type": "stream",
     "text": [
      "F:\\anaconda_setup\\lib\\site-packages\\sklearn\\cross_validation.py:44: DeprecationWarning: This module was deprecated in version 0.18 in favor of the model_selection module into which all the refactored classes and functions are moved. Also note that the interface of the new CV iterators are different from that of this module. This module will be removed in 0.20.\n",
      "  \"This module will be removed in 0.20.\", DeprecationWarning)\n"
     ]
    }
   ],
   "source": [
    "from sklearn.cross_validation import train_test_split\n",
    "from sklearn.model_selection import cross_val_score\n",
    "X_train, X_test, y_train, y_test = train_test_split(X, y, test_size=0.3, random_state=4)"
   ]
  },
  {
   "cell_type": "code",
   "execution_count": 23,
   "metadata": {},
   "outputs": [
    {
     "data": {
      "text/plain": [
       "(27252, 10)"
      ]
     },
     "execution_count": 23,
     "metadata": {},
     "output_type": "execute_result"
    }
   ],
   "source": [
    "X_train.shape"
   ]
  },
  {
   "cell_type": "code",
   "execution_count": 24,
   "metadata": {},
   "outputs": [
    {
     "data": {
      "text/plain": [
       "(11680, 10)"
      ]
     },
     "execution_count": 24,
     "metadata": {},
     "output_type": "execute_result"
    }
   ],
   "source": [
    "X_test.shape"
   ]
  },
  {
   "cell_type": "code",
   "execution_count": null,
   "metadata": {
    "collapsed": true
   },
   "outputs": [],
   "source": []
  },
  {
   "cell_type": "markdown",
   "metadata": {},
   "source": [
    "## count vectorization"
   ]
  },
  {
   "cell_type": "code",
   "execution_count": 25,
   "metadata": {
    "collapsed": true
   },
   "outputs": [],
   "source": [
    "from nltk.corpus import stopwords\n",
    "from nltk.stem import PorterStemmer\n",
    "import re\n",
    "from sklearn.feature_extraction.text import CountVectorizer, TfidfVectorizer"
   ]
  },
  {
   "cell_type": "code",
   "execution_count": null,
   "metadata": {
    "collapsed": true
   },
   "outputs": [],
   "source": []
  },
  {
   "cell_type": "code",
   "execution_count": 26,
   "metadata": {
    "collapsed": true
   },
   "outputs": [],
   "source": [
    "stops = set(stopwords.words(\"english\"))\n",
    "def cleanData(text, lowercase = False, remove_stops = False, stemming = False):\n",
    "    txt = str(text)\n",
    "    txt = re.sub(r'[^A-Za-z0-9\\s]',r'',txt)\n",
    "    txt = re.sub(r'\\n',r' ',txt)\n",
    "    \n",
    "    if lowercase:\n",
    "        txt = \" \".join([w.lower() for w in txt.split()])\n",
    "        \n",
    "    if remove_stops:\n",
    "        txt = \" \".join([w for w in txt.split() if w not in stops])\n",
    "    \n",
    "    if stemming:\n",
    "        st = PorterStemmer()\n",
    "        txt = \" \".join([st.stem(w) for w in txt.split()])\n",
    "\n",
    "    return txt"
   ]
  },
  {
   "cell_type": "code",
   "execution_count": 27,
   "metadata": {},
   "outputs": [
    {
     "name": "stderr",
     "output_type": "stream",
     "text": [
      "F:\\anaconda_setup\\lib\\site-packages\\ipykernel_launcher.py:2: SettingWithCopyWarning: \n",
      "A value is trying to be set on a copy of a slice from a DataFrame.\n",
      "Try using .loc[row_indexer,col_indexer] = value instead\n",
      "\n",
      "See the caveats in the documentation: http://pandas.pydata.org/pandas-docs/stable/indexing.html#indexing-view-versus-copy\n",
      "  \n"
     ]
    },
    {
     "data": {
      "text/plain": [
       "12443    place realli nice park lot big servic quick be...\n",
       "9067     modern new clean great staff stay convent loca...\n",
       "11608    search review wasnt sure expect metro pleasant...\n",
       "38192    stay mani time last year alway pleasant stay w...\n",
       "12057    daughter graduat columbia u made vacay hotel s...\n",
       "Name: Description, dtype: object"
      ]
     },
     "execution_count": 27,
     "metadata": {},
     "output_type": "execute_result"
    }
   ],
   "source": [
    "# clean description\n",
    "X_train['Description'] = X_train['Description'].map(lambda x: cleanData(x, lowercase=True, remove_stops=True, stemming=True))\n",
    "X_train['Description'].head()"
   ]
  },
  {
   "cell_type": "code",
   "execution_count": 28,
   "metadata": {},
   "outputs": [
    {
     "data": {
      "text/html": [
       "<div>\n",
       "<style>\n",
       "    .dataframe thead tr:only-child th {\n",
       "        text-align: right;\n",
       "    }\n",
       "\n",
       "    .dataframe thead th {\n",
       "        text-align: left;\n",
       "    }\n",
       "\n",
       "    .dataframe tbody tr th {\n",
       "        vertical-align: top;\n",
       "    }\n",
       "</style>\n",
       "<table border=\"1\" class=\"dataframe\">\n",
       "  <thead>\n",
       "    <tr style=\"text-align: right;\">\n",
       "      <th></th>\n",
       "      <th>Description</th>\n",
       "      <th>Browser_Chrome</th>\n",
       "      <th>Browser_Edge</th>\n",
       "      <th>Browser_Firefox</th>\n",
       "      <th>Browser_IE</th>\n",
       "      <th>Browser_Opera</th>\n",
       "      <th>Browser_Safari</th>\n",
       "      <th>Device_Desktop</th>\n",
       "      <th>Device_Mobile</th>\n",
       "      <th>Device_Tablet</th>\n",
       "    </tr>\n",
       "  </thead>\n",
       "  <tbody>\n",
       "    <tr>\n",
       "      <th>12443</th>\n",
       "      <td>place realli nice park lot big servic quick be...</td>\n",
       "      <td>0</td>\n",
       "      <td>0</td>\n",
       "      <td>0</td>\n",
       "      <td>1</td>\n",
       "      <td>0</td>\n",
       "      <td>0</td>\n",
       "      <td>0</td>\n",
       "      <td>0</td>\n",
       "      <td>1</td>\n",
       "    </tr>\n",
       "    <tr>\n",
       "      <th>9067</th>\n",
       "      <td>modern new clean great staff stay convent loca...</td>\n",
       "      <td>0</td>\n",
       "      <td>0</td>\n",
       "      <td>0</td>\n",
       "      <td>0</td>\n",
       "      <td>0</td>\n",
       "      <td>0</td>\n",
       "      <td>0</td>\n",
       "      <td>0</td>\n",
       "      <td>1</td>\n",
       "    </tr>\n",
       "    <tr>\n",
       "      <th>11608</th>\n",
       "      <td>search review wasnt sure expect metro pleasant...</td>\n",
       "      <td>0</td>\n",
       "      <td>0</td>\n",
       "      <td>0</td>\n",
       "      <td>1</td>\n",
       "      <td>0</td>\n",
       "      <td>0</td>\n",
       "      <td>0</td>\n",
       "      <td>0</td>\n",
       "      <td>1</td>\n",
       "    </tr>\n",
       "    <tr>\n",
       "      <th>38192</th>\n",
       "      <td>stay mani time last year alway pleasant stay w...</td>\n",
       "      <td>0</td>\n",
       "      <td>0</td>\n",
       "      <td>0</td>\n",
       "      <td>1</td>\n",
       "      <td>0</td>\n",
       "      <td>0</td>\n",
       "      <td>0</td>\n",
       "      <td>1</td>\n",
       "      <td>0</td>\n",
       "    </tr>\n",
       "    <tr>\n",
       "      <th>12057</th>\n",
       "      <td>daughter graduat columbia u made vacay hotel s...</td>\n",
       "      <td>0</td>\n",
       "      <td>1</td>\n",
       "      <td>0</td>\n",
       "      <td>0</td>\n",
       "      <td>0</td>\n",
       "      <td>0</td>\n",
       "      <td>0</td>\n",
       "      <td>0</td>\n",
       "      <td>1</td>\n",
       "    </tr>\n",
       "  </tbody>\n",
       "</table>\n",
       "</div>"
      ],
      "text/plain": [
       "                                             Description  Browser_Chrome  \\\n",
       "12443  place realli nice park lot big servic quick be...               0   \n",
       "9067   modern new clean great staff stay convent loca...               0   \n",
       "11608  search review wasnt sure expect metro pleasant...               0   \n",
       "38192  stay mani time last year alway pleasant stay w...               0   \n",
       "12057  daughter graduat columbia u made vacay hotel s...               0   \n",
       "\n",
       "       Browser_Edge  Browser_Firefox  Browser_IE  Browser_Opera  \\\n",
       "12443             0                0           1              0   \n",
       "9067              0                0           0              0   \n",
       "11608             0                0           1              0   \n",
       "38192             0                0           1              0   \n",
       "12057             1                0           0              0   \n",
       "\n",
       "       Browser_Safari  Device_Desktop  Device_Mobile  Device_Tablet  \n",
       "12443               0               0              0              1  \n",
       "9067                0               0              0              1  \n",
       "11608               0               0              0              1  \n",
       "38192               0               0              1              0  \n",
       "12057               0               0              0              1  "
      ]
     },
     "execution_count": 28,
     "metadata": {},
     "output_type": "execute_result"
    }
   ],
   "source": [
    "X_train.head()"
   ]
  },
  {
   "cell_type": "code",
   "execution_count": null,
   "metadata": {
    "collapsed": true
   },
   "outputs": [],
   "source": []
  },
  {
   "cell_type": "code",
   "execution_count": 29,
   "metadata": {
    "collapsed": true
   },
   "outputs": [],
   "source": [
    "from sklearn.feature_extraction.text import CountVectorizer\n",
    "vect = CountVectorizer()"
   ]
  },
  {
   "cell_type": "code",
   "execution_count": 30,
   "metadata": {},
   "outputs": [
    {
     "data": {
      "text/plain": [
       "CountVectorizer(analyzer='word', binary=False, decode_error='strict',\n",
       "        dtype=<class 'numpy.int64'>, encoding='utf-8', input='content',\n",
       "        lowercase=True, max_df=1.0, max_features=None, min_df=1,\n",
       "        ngram_range=(1, 1), preprocessor=None, stop_words=None,\n",
       "        strip_accents=None, token_pattern='(?u)\\\\b\\\\w\\\\w+\\\\b',\n",
       "        tokenizer=None, vocabulary=None)"
      ]
     },
     "execution_count": 30,
     "metadata": {},
     "output_type": "execute_result"
    }
   ],
   "source": [
    "vect.fit(X_train.Description)"
   ]
  },
  {
   "cell_type": "code",
   "execution_count": 31,
   "metadata": {},
   "outputs": [
    {
     "data": {
      "text/plain": [
       "['aa',\n",
       " 'aaa',\n",
       " 'aaaa',\n",
       " 'aaaaalll',\n",
       " 'aaaahhhhhhhhh',\n",
       " 'aaaandddd',\n",
       " 'aaah',\n",
       " 'aaahhh',\n",
       " 'aaahhhhh',\n",
       " 'aaargh',\n",
       " 'aain',\n",
       " 'aaron',\n",
       " 'aarp',\n",
       " 'aarron',\n",
       " 'aatc',\n",
       " 'aau',\n",
       " 'ab',\n",
       " 'aback',\n",
       " 'abandon',\n",
       " 'abaout',\n",
       " 'abat',\n",
       " 'abb',\n",
       " 'abbi',\n",
       " 'abbrevi',\n",
       " 'abc',\n",
       " 'abccbsnbc',\n",
       " 'abd',\n",
       " 'abdomen',\n",
       " 'abdul',\n",
       " 'abe',\n",
       " 'abeit',\n",
       " 'abercrombi',\n",
       " 'aberr',\n",
       " 'abett',\n",
       " 'abhorr',\n",
       " 'abid',\n",
       " 'abigail',\n",
       " 'abigal',\n",
       " 'abil',\n",
       " 'abit',\n",
       " 'abiturbo',\n",
       " 'abject',\n",
       " 'abl',\n",
       " 'ablut',\n",
       " 'abnorm',\n",
       " 'abod',\n",
       " 'abolish',\n",
       " 'abomin',\n",
       " 'abood',\n",
       " 'abort',\n",
       " 'abou',\n",
       " 'abound',\n",
       " 'abour',\n",
       " 'about',\n",
       " 'abouta',\n",
       " 'aboutbut',\n",
       " 'abouth',\n",
       " 'aboutit',\n",
       " 'aboutno',\n",
       " 'aboutord',\n",
       " 'aboutth',\n",
       " 'aboutthey',\n",
       " 'aboutw',\n",
       " 'aboveandbeyond',\n",
       " 'aboveaverag',\n",
       " 'abovebelow',\n",
       " 'abovecount',\n",
       " 'abovei',\n",
       " 'aboveil',\n",
       " 'aboveit',\n",
       " 'abovel',\n",
       " 'abovesound',\n",
       " 'aboveth',\n",
       " 'abraham',\n",
       " 'abras',\n",
       " 'abri',\n",
       " 'abroad',\n",
       " 'abroadoveral',\n",
       " 'abrupt',\n",
       " 'abruptli',\n",
       " 'abscond',\n",
       " 'absenc',\n",
       " 'absent',\n",
       " 'absolout',\n",
       " 'absolultey',\n",
       " 'absolut',\n",
       " 'absolutebl',\n",
       " 'absolutey',\n",
       " 'absolutl',\n",
       " 'absolutley',\n",
       " 'absolutli',\n",
       " 'absorb',\n",
       " 'absord',\n",
       " 'absoult',\n",
       " 'absoulut',\n",
       " 'absout',\n",
       " 'abstract',\n",
       " 'absurb',\n",
       " 'absurd',\n",
       " 'absurdli',\n",
       " 'absym',\n",
       " 'abt',\n",
       " 'abthroom',\n",
       " 'abu',\n",
       " 'abund',\n",
       " 'abundantli',\n",
       " 'abus',\n",
       " 'abusaif',\n",
       " 'abut',\n",
       " 'abvail',\n",
       " 'abysm',\n",
       " 'abysmalwhi',\n",
       " 'abyssm',\n",
       " 'ac',\n",
       " 'academ',\n",
       " 'academi',\n",
       " 'acai',\n",
       " 'acapulco',\n",
       " 'acc',\n",
       " 'acccess',\n",
       " 'accclim',\n",
       " 'acccommod',\n",
       " 'acccount',\n",
       " 'acced',\n",
       " 'acceler',\n",
       " 'accent',\n",
       " 'accentu',\n",
       " 'accep',\n",
       " 'accept',\n",
       " 'acceptablealthough',\n",
       " 'acceptablehow',\n",
       " 'acceptalb',\n",
       " 'accepti',\n",
       " 'acces',\n",
       " 'access',\n",
       " 'accessbl',\n",
       " 'accessbut',\n",
       " 'accessguest',\n",
       " 'accessibi',\n",
       " 'accessibilti',\n",
       " 'accessibl',\n",
       " 'accessiblegood',\n",
       " 'accessiblehowev',\n",
       " 'accessibletransport',\n",
       " 'accessmust',\n",
       " 'accessor',\n",
       " 'accessori',\n",
       " 'accessveri',\n",
       " 'accesswheelchair',\n",
       " 'accesswir',\n",
       " 'accet',\n",
       " 'accid',\n",
       " 'accident',\n",
       " 'accidint',\n",
       " 'acclaim',\n",
       " 'acclim',\n",
       " 'accolad',\n",
       " 'accom',\n",
       " 'accomad',\n",
       " 'accomadatingw',\n",
       " 'accomadt',\n",
       " 'accomand',\n",
       " 'accomd',\n",
       " 'accomend',\n",
       " 'accomid',\n",
       " 'accominad',\n",
       " 'accomm',\n",
       " 'accommad',\n",
       " 'accommadatingeven',\n",
       " 'accommend',\n",
       " 'accommid',\n",
       " 'accommmod',\n",
       " 'accommod',\n",
       " 'accommodatingbut',\n",
       " 'accommodatingi',\n",
       " 'accommodatingpatrick',\n",
       " 'accommodatingthey',\n",
       " 'accommodatingthi',\n",
       " 'accommodationlov',\n",
       " 'accommodationshotel',\n",
       " 'accomoc',\n",
       " 'accomod',\n",
       " 'accomodatibg',\n",
       " 'accomodatingeven',\n",
       " 'accomodatingin',\n",
       " 'accomodatingit',\n",
       " 'accomodatingl',\n",
       " 'accomodatingwhich',\n",
       " 'accomodationfram',\n",
       " 'accomodi',\n",
       " 'accomond',\n",
       " 'accompani',\n",
       " 'accomplish',\n",
       " 'accompni',\n",
       " 'acconomod',\n",
       " 'accor',\n",
       " 'accord',\n",
       " 'accordian',\n",
       " 'accordingli',\n",
       " 'accordion',\n",
       " 'accordy',\n",
       " 'accoss',\n",
       " 'accost',\n",
       " 'accotr',\n",
       " 'account',\n",
       " 'accountpoint',\n",
       " 'accountth',\n",
       " 'accountthen',\n",
       " 'accouter',\n",
       " 'accoutr',\n",
       " 'accreditati',\n",
       " 'accross',\n",
       " 'accru',\n",
       " 'acct',\n",
       " 'acctg',\n",
       " 'accuar',\n",
       " 'accuml',\n",
       " 'accumu',\n",
       " 'accumul',\n",
       " 'accur',\n",
       " 'accuraci',\n",
       " 'accuratli',\n",
       " 'accurr',\n",
       " 'accus',\n",
       " 'accusatori',\n",
       " 'accusotom',\n",
       " 'accustom',\n",
       " 'ace',\n",
       " 'acela',\n",
       " 'acerb',\n",
       " 'acess',\n",
       " 'acesss',\n",
       " 'aceven',\n",
       " 'ach',\n",
       " 'acheat',\n",
       " 'achi',\n",
       " 'achiev',\n",
       " 'achievei',\n",
       " 'achingli',\n",
       " 'acid',\n",
       " 'acidi',\n",
       " 'acitivi',\n",
       " 'acknoledg',\n",
       " 'acknolwedg',\n",
       " 'acknowledg',\n",
       " 'acknowleg',\n",
       " 'acknowlegd',\n",
       " 'ackowledg',\n",
       " 'ackward',\n",
       " 'aclub',\n",
       " 'acm',\n",
       " 'acnon',\n",
       " 'acnowledg',\n",
       " 'acolyt',\n",
       " 'acommod',\n",
       " 'acondicionado',\n",
       " 'acondit',\n",
       " 'acoomid',\n",
       " 'acorn',\n",
       " 'acoss',\n",
       " 'acoupl',\n",
       " 'acoust',\n",
       " 'acqua',\n",
       " 'acquaint',\n",
       " 'acquaintenancescli',\n",
       " 'acquarium',\n",
       " 'acquir',\n",
       " 'acquisit',\n",
       " 'acr',\n",
       " 'acrefabul',\n",
       " 'acri',\n",
       " 'acro',\n",
       " 'acrobat',\n",
       " 'acroo',\n",
       " 'across',\n",
       " 'acrossno',\n",
       " 'acrosstown',\n",
       " 'acrss',\n",
       " 'acryl',\n",
       " 'acsmal',\n",
       " 'act',\n",
       " 'actbiltmor',\n",
       " 'action',\n",
       " 'actionnic',\n",
       " 'actionsattitud',\n",
       " 'actitud',\n",
       " 'activ',\n",
       " 'activi',\n",
       " 'activit',\n",
       " 'activitiesrentalsect',\n",
       " 'activitiesso',\n",
       " 'activitiesw',\n",
       " 'activitylov',\n",
       " 'activti',\n",
       " 'actor',\n",
       " 'actress',\n",
       " 'actual',\n",
       " 'actuallythi',\n",
       " 'acual',\n",
       " 'acur',\n",
       " 'acura',\n",
       " 'acustom',\n",
       " 'acut',\n",
       " 'acvitiy',\n",
       " 'acwhenev',\n",
       " 'acwhich',\n",
       " 'ad',\n",
       " 'ada',\n",
       " 'adaaccess',\n",
       " 'adag',\n",
       " 'adagio',\n",
       " 'adam',\n",
       " 'adamantli',\n",
       " 'adamsmorgan',\n",
       " 'adamsquinci',\n",
       " 'adant',\n",
       " 'adapt',\n",
       " 'adaptor',\n",
       " 'adaqu',\n",
       " 'adaquit',\n",
       " 'aday',\n",
       " 'add',\n",
       " 'addebbitato',\n",
       " 'addedtook',\n",
       " 'addict',\n",
       " 'addion',\n",
       " 'addison',\n",
       " 'addit',\n",
       " 'additiona',\n",
       " 'additionn',\n",
       " 'additon',\n",
       " 'addituon',\n",
       " 'addl',\n",
       " 'addon',\n",
       " 'addonextra',\n",
       " 'addres',\n",
       " 'address',\n",
       " 'addresswhich',\n",
       " 'addtion',\n",
       " 'ade',\n",
       " 'adel',\n",
       " 'adela',\n",
       " 'adelaid',\n",
       " 'adema',\n",
       " 'adept',\n",
       " 'adeqaut',\n",
       " 'adequ',\n",
       " 'adequat',\n",
       " 'adequateaverag',\n",
       " 'adequatebathroom',\n",
       " 'adequatedec',\n",
       " 'adequatefor',\n",
       " 'adequatein',\n",
       " 'adequatesom',\n",
       " 'adequatestylish',\n",
       " 'adequateth',\n",
       " 'adequet',\n",
       " 'adequit',\n",
       " 'adequteno',\n",
       " 'adesso',\n",
       " 'adev',\n",
       " 'adhara',\n",
       " 'adher',\n",
       " 'adi',\n",
       " 'adibu',\n",
       " 'adida',\n",
       " 'adiqu',\n",
       " 'adirondack',\n",
       " 'adirondak',\n",
       " 'adit',\n",
       " 'adjac',\n",
       " 'adjacentconnect',\n",
       " 'adjacentwhich',\n",
       " 'adject',\n",
       " 'adjo',\n",
       " 'adjoin',\n",
       " 'adjoing',\n",
       " 'adjoinign',\n",
       " 'adjoiningconnect',\n",
       " 'adjoiningquietnonsmok',\n",
       " 'adjon',\n",
       " 'adjust',\n",
       " 'adjustor',\n",
       " 'adler',\n",
       " 'adleresqu',\n",
       " 'admin',\n",
       " 'administ',\n",
       " 'administr',\n",
       " 'administrationmgrsmainten',\n",
       " 'adminstr',\n",
       " 'admir',\n",
       " 'admire',\n",
       " 'admiss',\n",
       " 'admisss',\n",
       " 'admist',\n",
       " 'admit',\n",
       " 'admitshula',\n",
       " 'admittedli',\n",
       " 'admonish',\n",
       " 'admonit',\n",
       " 'adn',\n",
       " 'adob',\n",
       " 'adolesc',\n",
       " 'adolphu',\n",
       " 'adopt',\n",
       " 'ador',\n",
       " 'adorn',\n",
       " 'adour',\n",
       " 'adrenalin',\n",
       " 'adress',\n",
       " 'adrian',\n",
       " 'adriana',\n",
       " 'adslov',\n",
       " 'adtech',\n",
       " 'adult',\n",
       " 'adultbusinessman',\n",
       " 'adults',\n",
       " 'adultsfelt',\n",
       " 'adultsteenag',\n",
       " 'adultsteennot',\n",
       " 'adultstoddl',\n",
       " 'adultsw',\n",
       " 'advanatg',\n",
       " 'advanc',\n",
       " 'advancehelp',\n",
       " 'advang',\n",
       " 'advantag',\n",
       " 'advantagemi',\n",
       " 'advantg',\n",
       " 'adven',\n",
       " 'adventur',\n",
       " 'adventuresom',\n",
       " 'adverag',\n",
       " 'advers',\n",
       " 'advert',\n",
       " 'advertis',\n",
       " 'advertisedeveri',\n",
       " 'advertisementsw',\n",
       " 'advertur',\n",
       " 'advic',\n",
       " 'advicebuy',\n",
       " 'advicedont',\n",
       " 'adviceif',\n",
       " 'advicer',\n",
       " 'advicetak',\n",
       " 'advid',\n",
       " 'advil',\n",
       " 'advirtis',\n",
       " 'advis',\n",
       " 'advisd',\n",
       " 'advisegood',\n",
       " 'advisespend',\n",
       " 'advisor',\n",
       " 'advisorcom',\n",
       " 'advisori',\n",
       " 'advisorw',\n",
       " 'advoc',\n",
       " 'ae',\n",
       " 'aerial',\n",
       " 'aerob',\n",
       " 'aeron',\n",
       " 'aesthet',\n",
       " 'af',\n",
       " 'afar',\n",
       " 'afb',\n",
       " 'afcours',\n",
       " 'afeatur',\n",
       " 'afeild',\n",
       " 'afer',\n",
       " 'afew',\n",
       " 'affabl',\n",
       " 'affadavit',\n",
       " 'affair',\n",
       " 'affct',\n",
       " 'affect',\n",
       " 'affection',\n",
       " 'affer',\n",
       " 'affiar',\n",
       " 'affici',\n",
       " 'affili',\n",
       " 'affin',\n",
       " 'affina',\n",
       " 'affinia',\n",
       " 'affininia',\n",
       " 'affird',\n",
       " 'affirm',\n",
       " 'affix',\n",
       " 'affluent',\n",
       " 'affnia',\n",
       " 'affor',\n",
       " 'afford',\n",
       " 'affort',\n",
       " 'afgan',\n",
       " 'afghan',\n",
       " 'afghani',\n",
       " 'afghanistan',\n",
       " 'afgter',\n",
       " 'aficionado',\n",
       " 'afield',\n",
       " 'afinia',\n",
       " 'aflac',\n",
       " 'afloat',\n",
       " 'afoot',\n",
       " 'aford',\n",
       " 'aforement',\n",
       " 'afraid',\n",
       " 'afread',\n",
       " 'afrer',\n",
       " 'africa',\n",
       " 'african',\n",
       " 'africanamerican',\n",
       " 'afro',\n",
       " 'afroamerican',\n",
       " 'aftar',\n",
       " 'afteral',\n",
       " 'afterdinn',\n",
       " 'aftererward',\n",
       " 'afterhour',\n",
       " 'aftermath',\n",
       " 'afternnon',\n",
       " 'afternoon',\n",
       " 'afternoonearli',\n",
       " 'afternooneven',\n",
       " 'afternoonit',\n",
       " 'afternoonnight',\n",
       " 'afternoonther',\n",
       " 'afternoonthi',\n",
       " 'afternooon',\n",
       " 'aftershav',\n",
       " 'aftershock',\n",
       " 'aftersmel',\n",
       " 'aftertast',\n",
       " 'afterthought',\n",
       " 'afterward',\n",
       " 'afterword',\n",
       " 'afterwork',\n",
       " 'aftr',\n",
       " 'aftter',\n",
       " 'aftwr',\n",
       " 'againa',\n",
       " 'againagainagain',\n",
       " 'againal',\n",
       " 'againalso',\n",
       " 'againand',\n",
       " 'againbatteri',\n",
       " 'againbtw',\n",
       " 'againbut',\n",
       " 'againcheck',\n",
       " 'againchicago',\n",
       " 'againclos',\n",
       " 'againcomplain',\n",
       " 'againdont',\n",
       " 'againev',\n",
       " 'againgross',\n",
       " 'againhad',\n",
       " 'againhav',\n",
       " 'againhmmm',\n",
       " 'againi',\n",
       " 'againif',\n",
       " 'againim',\n",
       " 'againit',\n",
       " 'againjust',\n",
       " 'againlarg',\n",
       " 'againlot',\n",
       " 'againmanag',\n",
       " 'againmayb',\n",
       " 'againminor',\n",
       " 'againno',\n",
       " 'againnot',\n",
       " 'againoh',\n",
       " 'againon',\n",
       " 'againrecommend',\n",
       " 'againso',\n",
       " 'againstood',\n",
       " 'againth',\n",
       " 'againther',\n",
       " 'againtheyr',\n",
       " 'againthi',\n",
       " 'againtri',\n",
       " 'againturn',\n",
       " 'againunless',\n",
       " 'againw',\n",
       " 'againwhat',\n",
       " 'againwithin',\n",
       " 'againwould',\n",
       " 'againy',\n",
       " 'againyoud',\n",
       " 'aganst',\n",
       " 'agant',\n",
       " 'agao',\n",
       " 'agatha',\n",
       " 'agav',\n",
       " 'age',\n",
       " 'agealmost',\n",
       " 'ageappropri',\n",
       " 'agelik',\n",
       " 'agemodern',\n",
       " 'agen',\n",
       " 'agenc',\n",
       " 'agencyi',\n",
       " 'agenda',\n",
       " 'agenoth',\n",
       " 'agent',\n",
       " 'agentbellman',\n",
       " 'agentswhen',\n",
       " 'agesignag',\n",
       " 'agesth',\n",
       " 'aggrav',\n",
       " 'aggreg',\n",
       " 'aggres',\n",
       " 'aggress',\n",
       " 'aggressic',\n",
       " 'aggrev',\n",
       " 'aggriev',\n",
       " 'aghast',\n",
       " 'agian',\n",
       " 'agil',\n",
       " 'agin',\n",
       " 'aginwhich',\n",
       " 'agit',\n",
       " 'agn',\n",
       " 'ago',\n",
       " 'agobut',\n",
       " 'agojust',\n",
       " 'agomonth',\n",
       " 'agon',\n",
       " 'agonaut',\n",
       " 'agoni',\n",
       " 'agonic',\n",
       " 'agonizingli',\n",
       " 'agonoth',\n",
       " 'agonow',\n",
       " 'agooct',\n",
       " 'agoso',\n",
       " 'agpwatertow',\n",
       " 'agre',\n",
       " 'agree',\n",
       " 'agreeabl',\n",
       " 'agreedupon',\n",
       " 'agreement',\n",
       " 'agreeth',\n",
       " 'agress',\n",
       " 'agu',\n",
       " 'agua',\n",
       " 'ah',\n",
       " 'aha',\n",
       " 'ahad',\n",
       " 'ahain',\n",
       " 'ahav',\n",
       " 'ahd',\n",
       " 'ahe',\n",
       " 'ahead',\n",
       " 'aheadi',\n",
       " 'aheadoftim',\n",
       " 'ahem',\n",
       " 'ahh',\n",
       " 'ahhh',\n",
       " 'ahhha',\n",
       " 'ahhhh',\n",
       " 'ahhhhhh',\n",
       " 'ahhhhhhh',\n",
       " 'ahi',\n",
       " 'ahight',\n",
       " 'ahippin',\n",
       " 'ahm',\n",
       " 'ahmad',\n",
       " 'ahmanson',\n",
       " 'ahoppin',\n",
       " 'ahsan',\n",
       " 'ahter',\n",
       " 'ahv',\n",
       " 'ai',\n",
       " 'aibl',\n",
       " 'aich',\n",
       " 'aid',\n",
       " 'aida',\n",
       " 'aidw',\n",
       " 'ail',\n",
       " 'ailey',\n",
       " 'ailment',\n",
       " 'aim',\n",
       " 'aime',\n",
       " 'aimless',\n",
       " 'aimlessli',\n",
       " 'aint',\n",
       " 'aioli',\n",
       " 'aiplan',\n",
       " 'aiport',\n",
       " 'air',\n",
       " 'aira',\n",
       " 'airalso',\n",
       " 'airb',\n",
       " 'airbu',\n",
       " 'aircard',\n",
       " 'airco',\n",
       " 'aircon',\n",
       " 'aircondit',\n",
       " 'aircondition',\n",
       " 'airconditioningsoft',\n",
       " 'airconditioningwat',\n",
       " 'airconditionn',\n",
       " 'airconditon',\n",
       " 'aircondtiion',\n",
       " 'airconh',\n",
       " 'aircraft',\n",
       " 'aircrew',\n",
       " 'airfar',\n",
       " 'airfarehotel',\n",
       " 'airfield',\n",
       " 'airfilt',\n",
       " 'airflow',\n",
       " 'airforc',\n",
       " 'airfreshen',\n",
       " 'airheat',\n",
       " 'airhotel',\n",
       " 'airi',\n",
       " 'airid',\n",
       " 'airier',\n",
       " 'airless',\n",
       " 'airlin',\n",
       " 'airlink',\n",
       " 'airman',\n",
       " 'airmen',\n",
       " 'airplan',\n",
       " 'airplort',\n",
       " 'airplug',\n",
       " 'airpoart',\n",
       " 'airport',\n",
       " 'airporta',\n",
       " 'airportal',\n",
       " 'airportbreakfast',\n",
       " 'airportcar',\n",
       " 'airportclearli',\n",
       " 'airportdont',\n",
       " 'airporteveryth',\n",
       " 'airportexcel',\n",
       " 'airportfast',\n",
       " 'airportfre',\n",
       " 'airportget',\n",
       " 'airportlax',\n",
       " 'airportliberti',\n",
       " 'airportlindberg',\n",
       " 'airportlov',\n",
       " 'airportnc',\n",
       " 'airportnow',\n",
       " 'airportrec',\n",
       " 'airportshuttl',\n",
       " 'airportth',\n",
       " 'airportthat',\n",
       " 'airportthey',\n",
       " 'airportw',\n",
       " 'airpot',\n",
       " 'airpotr',\n",
       " 'airshaft',\n",
       " 'airshaftno',\n",
       " 'airship',\n",
       " 'airshow',\n",
       " 'airspac',\n",
       " 'airstat',\n",
       " 'airstream',\n",
       " 'airtel',\n",
       " 'airtight',\n",
       " 'airtraff',\n",
       " 'airtrain',\n",
       " 'airtrainlirr',\n",
       " 'airtram',\n",
       " 'airtran',\n",
       " 'airwair',\n",
       " 'airway',\n",
       " 'aisl',\n",
       " 'aix',\n",
       " 'aiyetoro',\n",
       " 'aj',\n",
       " 'aja',\n",
       " 'ajar',\n",
       " 'ajaropen',\n",
       " 'ajia',\n",
       " 'ajo',\n",
       " 'ajoin',\n",
       " 'ajon',\n",
       " 'ajust',\n",
       " 'ajuua',\n",
       " 'ak',\n",
       " 'aka',\n",
       " 'ake',\n",
       " 'akima',\n",
       " 'akin',\n",
       " 'aks',\n",
       " 'akshay',\n",
       " 'akward',\n",
       " 'al',\n",
       " 'ala',\n",
       " 'alabama',\n",
       " 'alacart',\n",
       " 'alacartcom',\n",
       " 'alain',\n",
       " 'alam',\n",
       " 'alamo',\n",
       " 'alamoaway',\n",
       " 'alamobowl',\n",
       " 'alamod',\n",
       " 'alamodom',\n",
       " 'alamoit',\n",
       " 'alamon',\n",
       " 'alamoriverwalk',\n",
       " 'alan',\n",
       " 'alarm',\n",
       " 'alarmat',\n",
       " 'alarmbut',\n",
       " 'alarmingli',\n",
       " 'alarmsi',\n",
       " 'alarmsmokey',\n",
       " 'alarmsth',\n",
       " 'alaska',\n",
       " 'alaskan',\n",
       " 'albeit',\n",
       " 'albert',\n",
       " 'alberto',\n",
       " 'albertson',\n",
       " 'albiet',\n",
       " 'album',\n",
       " 'albuquerqu',\n",
       " 'alcala',\n",
       " 'alcatraaz',\n",
       " 'alcatraz',\n",
       " 'alcatrazbook',\n",
       " 'alcatrazcruisescom',\n",
       " 'alcatrazz',\n",
       " 'alch',\n",
       " 'alchohol',\n",
       " 'alchol',\n",
       " 'alcohol',\n",
       " 'alcov',\n",
       " 'alden',\n",
       " 'alderwood',\n",
       " 'ale',\n",
       " 'alec',\n",
       " 'alegra',\n",
       " 'aleman',\n",
       " 'alen',\n",
       " 'alena',\n",
       " 'alert',\n",
       " 'alertingalarm',\n",
       " 'alex',\n",
       " 'alexa',\n",
       " 'alexand',\n",
       " 'alexandra',\n",
       " 'alexandria',\n",
       " 'alexi',\n",
       " 'alexzandra',\n",
       " 'alezia',\n",
       " 'alfani',\n",
       " 'alfano',\n",
       " 'alfonso',\n",
       " 'alfredo',\n",
       " 'alfresco',\n",
       " 'algea',\n",
       " 'algo',\n",
       " 'algonguin',\n",
       " 'algonquin',\n",
       " 'algonquinso',\n",
       " 'algonquinwhen',\n",
       " 'alguien',\n",
       " 'ali',\n",
       " 'alibi',\n",
       " 'alic',\n",
       " 'alicia',\n",
       " 'alicianna',\n",
       " 'alien',\n",
       " 'alievi',\n",
       " 'alight',\n",
       " 'align',\n",
       " 'alik',\n",
       " 'alikenot',\n",
       " 'alikew',\n",
       " 'alimento',\n",
       " 'alinea',\n",
       " 'alioto',\n",
       " 'alittl',\n",
       " 'alittletooperson',\n",
       " 'aliv',\n",
       " 'aliya',\n",
       " 'alk',\n",
       " 'alkaseltz',\n",
       " 'all',\n",
       " 'allam',\n",
       " 'allan',\n",
       " 'alland',\n",
       " 'allandal',\n",
       " 'allar',\n",
       " 'allaround',\n",
       " 'allay',\n",
       " 'allbeit',\n",
       " 'allbesty',\n",
       " 'allbut',\n",
       " 'allcal',\n",
       " 'allclean',\n",
       " 'allday',\n",
       " 'alldur',\n",
       " 'alleg',\n",
       " 'allegedli',\n",
       " 'allegro',\n",
       " 'allegrohighli',\n",
       " 'allen',\n",
       " 'allendal',\n",
       " 'allenjoy',\n",
       " 'allerg',\n",
       " 'allergen',\n",
       " 'allergenfre',\n",
       " 'allergi',\n",
       " 'allergin',\n",
       " 'allergist',\n",
       " 'allergyfriendli',\n",
       " 'allergyrel',\n",
       " 'allerton',\n",
       " 'allevai',\n",
       " 'allevi',\n",
       " 'allexpens',\n",
       " 'alley',\n",
       " 'alleybett',\n",
       " 'alleylik',\n",
       " 'alleys',\n",
       " 'alleyway',\n",
       " 'alleywaywa',\n",
       " 'allglass',\n",
       " 'allgood',\n",
       " 'allgreat',\n",
       " 'allhotwir',\n",
       " 'alli',\n",
       " 'allianc',\n",
       " 'allin',\n",
       " 'allinal',\n",
       " 'allinclus',\n",
       " 'allinon',\n",
       " 'allison',\n",
       " 'allit',\n",
       " 'allium',\n",
       " 'alljust',\n",
       " 'alll',\n",
       " 'alllerton',\n",
       " 'allll',\n",
       " 'alllllll',\n",
       " 'allllllll',\n",
       " 'allloc',\n",
       " 'alllow',\n",
       " 'allmi',\n",
       " 'allmirror',\n",
       " 'allnight',\n",
       " 'alloact',\n",
       " 'alloc',\n",
       " 'allonc',\n",
       " 'allot',\n",
       " 'allour',\n",
       " 'allov',\n",
       " 'allow',\n",
       " 'allowedbut',\n",
       " 'allowedsh',\n",
       " 'allpervas',\n",
       " 'allredi',\n",
       " 'allright',\n",
       " 'allround',\n",
       " 'allsh',\n",
       " 'allso',\n",
       " 'allstar',\n",
       " 'allth',\n",
       " 'allthat',\n",
       " 'allthough',\n",
       " 'alltim',\n",
       " 'alltogeth',\n",
       " 'allunless',\n",
       " 'allur',\n",
       " 'allus',\n",
       " 'allveri',\n",
       " 'allway',\n",
       " 'allweath',\n",
       " 'allwent',\n",
       " 'allwhen',\n",
       " 'allwhit',\n",
       " 'allwith',\n",
       " 'allworth',\n",
       " 'allyou',\n",
       " 'allyoucan',\n",
       " 'allyoucaneat',\n",
       " 'allyson',\n",
       " 'allywho',\n",
       " 'alm',\n",
       " 'alma',\n",
       " 'almalfi',\n",
       " 'almao',\n",
       " 'almighti',\n",
       " 'almond',\n",
       " 'almost',\n",
       " 'almostabandon',\n",
       " 'almostnew',\n",
       " 'almostparisian',\n",
       " 'almostperfect',\n",
       " 'almsot',\n",
       " 'alo',\n",
       " 'aloc',\n",
       " 'alocohol',\n",
       " ...]"
      ]
     },
     "execution_count": 31,
     "metadata": {},
     "output_type": "execute_result"
    }
   ],
   "source": [
    "vect.get_feature_names()"
   ]
  },
  {
   "cell_type": "code",
   "execution_count": 32,
   "metadata": {
    "collapsed": true
   },
   "outputs": [],
   "source": [
    "##  simple_train_dtm = vect.transform(train.Description)\n",
    "\n",
    "X_train_dtm = vect.transform(X_train.Description)"
   ]
  },
  {
   "cell_type": "code",
   "execution_count": 33,
   "metadata": {},
   "outputs": [
    {
     "data": {
      "text/plain": [
       "<27252x41432 sparse matrix of type '<class 'numpy.int64'>'\n",
       "\twith 1742177 stored elements in Compressed Sparse Row format>"
      ]
     },
     "execution_count": 33,
     "metadata": {},
     "output_type": "execute_result"
    }
   ],
   "source": [
    "## simple_train_dtm\n",
    "\n",
    "X_train_dtm"
   ]
  },
  {
   "cell_type": "code",
   "execution_count": 34,
   "metadata": {},
   "outputs": [
    {
     "data": {
      "text/plain": [
       "array([[0, 0, 0, ..., 0, 0, 0],\n",
       "       [0, 0, 0, ..., 0, 0, 0],\n",
       "       [0, 0, 0, ..., 0, 0, 0],\n",
       "       ..., \n",
       "       [0, 0, 0, ..., 0, 0, 0],\n",
       "       [0, 0, 0, ..., 0, 0, 0],\n",
       "       [0, 0, 0, ..., 0, 0, 0]], dtype=int64)"
      ]
     },
     "execution_count": 34,
     "metadata": {},
     "output_type": "execute_result"
    }
   ],
   "source": [
    "X_train_dtm.toarray()"
   ]
  },
  {
   "cell_type": "code",
   "execution_count": 35,
   "metadata": {},
   "outputs": [
    {
     "data": {
      "text/plain": [
       "scipy.sparse.csr.csr_matrix"
      ]
     },
     "execution_count": 35,
     "metadata": {},
     "output_type": "execute_result"
    }
   ],
   "source": [
    "type(X_train_dtm)"
   ]
  },
  {
   "cell_type": "code",
   "execution_count": 36,
   "metadata": {},
   "outputs": [
    {
     "data": {
      "text/plain": [
       "<27252x41432 sparse matrix of type '<class 'numpy.int64'>'\n",
       "\twith 1742177 stored elements in Compressed Sparse Row format>"
      ]
     },
     "execution_count": 36,
     "metadata": {},
     "output_type": "execute_result"
    }
   ],
   "source": [
    "X_train_dtm"
   ]
  },
  {
   "cell_type": "markdown",
   "metadata": {
    "collapsed": true
   },
   "source": [
    "# test"
   ]
  },
  {
   "cell_type": "code",
   "execution_count": 37,
   "metadata": {},
   "outputs": [
    {
     "data": {
      "text/plain": [
       "<11680x41432 sparse matrix of type '<class 'numpy.int64'>'\n",
       "\twith 620054 stored elements in Compressed Sparse Row format>"
      ]
     },
     "execution_count": 37,
     "metadata": {},
     "output_type": "execute_result"
    }
   ],
   "source": [
    "X_test_dtm = vect.transform(X_test.Description)\n",
    "X_test_dtm"
   ]
  },
  {
   "cell_type": "markdown",
   "metadata": {},
   "source": [
    "# modeling"
   ]
  },
  {
   "cell_type": "code",
   "execution_count": 38,
   "metadata": {
    "collapsed": true
   },
   "outputs": [],
   "source": [
    "from sklearn.naive_bayes import MultinomialNB\n",
    "nb = MultinomialNB()"
   ]
  },
  {
   "cell_type": "code",
   "execution_count": 39,
   "metadata": {},
   "outputs": [
    {
     "data": {
      "text/plain": [
       "MultinomialNB(alpha=1.0, class_prior=None, fit_prior=True)"
      ]
     },
     "execution_count": 39,
     "metadata": {},
     "output_type": "execute_result"
    }
   ],
   "source": [
    "nb.fit(X_train_dtm, y_train)\n"
   ]
  },
  {
   "cell_type": "code",
   "execution_count": 40,
   "metadata": {
    "collapsed": true
   },
   "outputs": [],
   "source": [
    "y_pred_class = nb.predict(X_test_dtm)"
   ]
  },
  {
   "cell_type": "code",
   "execution_count": 41,
   "metadata": {},
   "outputs": [
    {
     "data": {
      "text/plain": [
       "0.47782534246575342"
      ]
     },
     "execution_count": 41,
     "metadata": {},
     "output_type": "execute_result"
    }
   ],
   "source": [
    "from sklearn import metrics\n",
    "metrics.accuracy_score(y_test, y_pred_class)"
   ]
  },
  {
   "cell_type": "code",
   "execution_count": 42,
   "metadata": {},
   "outputs": [
    {
     "data": {
      "text/plain": [
       "array([[3682,   87],\n",
       "       [6012, 1899]])"
      ]
     },
     "execution_count": 42,
     "metadata": {},
     "output_type": "execute_result"
    }
   ],
   "source": [
    "# print the confusion matrix\n",
    "metrics.confusion_matrix(y_test, y_pred_class)"
   ]
  },
  {
   "cell_type": "code",
   "execution_count": 43,
   "metadata": {},
   "outputs": [
    {
     "data": {
      "text/plain": [
       "array([0, 0, 0, ..., 0, 0, 0], dtype=int64)"
      ]
     },
     "execution_count": 43,
     "metadata": {},
     "output_type": "execute_result"
    }
   ],
   "source": [
    "y_pred_class"
   ]
  },
  {
   "cell_type": "markdown",
   "metadata": {
    "collapsed": true
   },
   "source": [
    "# other models"
   ]
  },
  {
   "cell_type": "code",
   "execution_count": 47,
   "metadata": {
    "collapsed": true
   },
   "outputs": [],
   "source": [
    "from sklearn.linear_model import LogisticRegression\n",
    "nb = LogisticRegression()\n"
   ]
  },
  {
   "cell_type": "code",
   "execution_count": 48,
   "metadata": {},
   "outputs": [
    {
     "data": {
      "text/plain": [
       "LogisticRegression(C=1.0, class_weight=None, dual=False, fit_intercept=True,\n",
       "          intercept_scaling=1, max_iter=100, multi_class='ovr', n_jobs=1,\n",
       "          penalty='l2', random_state=None, solver='liblinear', tol=0.0001,\n",
       "          verbose=0, warm_start=False)"
      ]
     },
     "execution_count": 48,
     "metadata": {},
     "output_type": "execute_result"
    }
   ],
   "source": [
    "nb.fit(X_train_dtm, y_train)"
   ]
  },
  {
   "cell_type": "code",
   "execution_count": 49,
   "metadata": {
    "collapsed": true
   },
   "outputs": [],
   "source": [
    "y_pred_class = nb.predict(X_test_dtm)"
   ]
  },
  {
   "cell_type": "code",
   "execution_count": 50,
   "metadata": {},
   "outputs": [
    {
     "data": {
      "text/plain": [
       "0.68013698630136987"
      ]
     },
     "execution_count": 50,
     "metadata": {},
     "output_type": "execute_result"
    }
   ],
   "source": [
    "metrics.accuracy_score(y_test, y_pred_class)"
   ]
  },
  {
   "cell_type": "markdown",
   "metadata": {},
   "source": [
    "# Test dataset"
   ]
  },
  {
   "cell_type": "code",
   "execution_count": 148,
   "metadata": {},
   "outputs": [
    {
     "data": {
      "text/plain": [
       "<38932x46016 sparse matrix of type '<class 'numpy.int64'>'\n",
       "\twith 3677427 stored elements in Compressed Sparse Row format>"
      ]
     },
     "execution_count": 148,
     "metadata": {},
     "output_type": "execute_result"
    }
   ],
   "source": [
    "vect.fit(X.Description)\n",
    "X_dtm = vect.transform(X.Description)\n",
    "X_dtm"
   ]
  },
  {
   "cell_type": "code",
   "execution_count": null,
   "metadata": {
    "collapsed": true
   },
   "outputs": [],
   "source": []
  },
  {
   "cell_type": "code",
   "execution_count": null,
   "metadata": {
    "collapsed": true
   },
   "outputs": [],
   "source": []
  },
  {
   "cell_type": "code",
   "execution_count": 149,
   "metadata": {
    "collapsed": true
   },
   "outputs": [],
   "source": [
    "X_test2 = pd.read_csv(\"F:\\Micromax\\downloads\\data_sets\\Hackerearth_ML_predict_happiness/test_happi.csv\")"
   ]
  },
  {
   "cell_type": "code",
   "execution_count": 150,
   "metadata": {},
   "outputs": [
    {
     "data": {
      "text/html": [
       "<div>\n",
       "<table border=\"1\" class=\"dataframe\">\n",
       "  <thead>\n",
       "    <tr style=\"text-align: right;\">\n",
       "      <th></th>\n",
       "      <th>User_ID</th>\n",
       "      <th>Description</th>\n",
       "      <th>Browser_Used</th>\n",
       "      <th>Device_Used</th>\n",
       "    </tr>\n",
       "  </thead>\n",
       "  <tbody>\n",
       "    <tr>\n",
       "      <th>0</th>\n",
       "      <td>id80132</td>\n",
       "      <td>Looking for a motel in close proximity to TV t...</td>\n",
       "      <td>Firefox</td>\n",
       "      <td>Mobile</td>\n",
       "    </tr>\n",
       "    <tr>\n",
       "      <th>1</th>\n",
       "      <td>id80133</td>\n",
       "      <td>Walking distance to Madison Square Garden and ...</td>\n",
       "      <td>InternetExplorer</td>\n",
       "      <td>Desktop</td>\n",
       "    </tr>\n",
       "    <tr>\n",
       "      <th>2</th>\n",
       "      <td>id80134</td>\n",
       "      <td>Visited Seattle on business. Spent - nights in...</td>\n",
       "      <td>IE</td>\n",
       "      <td>Tablet</td>\n",
       "    </tr>\n",
       "    <tr>\n",
       "      <th>3</th>\n",
       "      <td>id80135</td>\n",
       "      <td>This hotel location is excellent and the rooms...</td>\n",
       "      <td>Edge</td>\n",
       "      <td>Mobile</td>\n",
       "    </tr>\n",
       "    <tr>\n",
       "      <th>4</th>\n",
       "      <td>id80136</td>\n",
       "      <td>This hotel is awesome I love the service Antho...</td>\n",
       "      <td>Mozilla</td>\n",
       "      <td>Mobile</td>\n",
       "    </tr>\n",
       "  </tbody>\n",
       "</table>\n",
       "</div>"
      ],
      "text/plain": [
       "   User_ID                                        Description  \\\n",
       "0  id80132  Looking for a motel in close proximity to TV t...   \n",
       "1  id80133  Walking distance to Madison Square Garden and ...   \n",
       "2  id80134  Visited Seattle on business. Spent - nights in...   \n",
       "3  id80135  This hotel location is excellent and the rooms...   \n",
       "4  id80136  This hotel is awesome I love the service Antho...   \n",
       "\n",
       "       Browser_Used Device_Used  \n",
       "0           Firefox      Mobile  \n",
       "1  InternetExplorer     Desktop  \n",
       "2                IE      Tablet  \n",
       "3              Edge      Mobile  \n",
       "4           Mozilla      Mobile  "
      ]
     },
     "execution_count": 150,
     "metadata": {},
     "output_type": "execute_result"
    }
   ],
   "source": [
    "X_test2.head()"
   ]
  },
  {
   "cell_type": "code",
   "execution_count": null,
   "metadata": {
    "collapsed": true
   },
   "outputs": [],
   "source": []
  },
  {
   "cell_type": "code",
   "execution_count": 151,
   "metadata": {},
   "outputs": [
    {
     "data": {
      "text/plain": [
       "Firefox              5676\n",
       "Edge                 5303\n",
       "InternetExplorer     3603\n",
       "Google Chrome        3391\n",
       "Mozilla Firefox      3198\n",
       "Mozilla              2333\n",
       "Chrome               1886\n",
       "IE                   1831\n",
       "Internet Explorer    1597\n",
       "Opera                 306\n",
       "Safari                280\n",
       "Name: Browser_Used, dtype: int64"
      ]
     },
     "execution_count": 151,
     "metadata": {},
     "output_type": "execute_result"
    }
   ],
   "source": [
    "X_test2.Browser_Used.value_counts()"
   ]
  },
  {
   "cell_type": "code",
   "execution_count": 152,
   "metadata": {
    "collapsed": true
   },
   "outputs": [],
   "source": [
    "X_test2['Browser_Used'] = X_test2.Browser_Used.map({'Edge':'Edge','Safari':'Safari','Opera':'Opera','Mozilla Firefox':'Firefox', 'Mozilla':'Firefox','InternetExplorer':'IE', 'Internet Explorer':'IE','Google Chrome':'Chrome'})"
   ]
  },
  {
   "cell_type": "code",
   "execution_count": 153,
   "metadata": {},
   "outputs": [
    {
     "data": {
      "text/plain": [
       "Firefox    5531\n",
       "Edge       5303\n",
       "IE         5200\n",
       "Chrome     3391\n",
       "Opera       306\n",
       "Safari      280\n",
       "Name: Browser_Used, dtype: int64"
      ]
     },
     "execution_count": 153,
     "metadata": {},
     "output_type": "execute_result"
    }
   ],
   "source": [
    "X_test2.Browser_Used.value_counts()"
   ]
  },
  {
   "cell_type": "code",
   "execution_count": 154,
   "metadata": {
    "collapsed": true
   },
   "outputs": [],
   "source": [
    "col_data = pd.get_dummies(X_test2.Browser_Used, prefix = 'Browser')"
   ]
  },
  {
   "cell_type": "code",
   "execution_count": 155,
   "metadata": {
    "collapsed": true
   },
   "outputs": [],
   "source": [
    "X_test2 = X_test2.join(col_data)\n",
    "dummies_Device = pd.get_dummies(X_test2.Device_Used, prefix = 'Device')\n",
    "X_test2 = X_test2.join(dummies_Device)\n",
    "X_test2.drop(['Device_Used','Browser_Used'],axis = 1, inplace = True)"
   ]
  },
  {
   "cell_type": "code",
   "execution_count": 156,
   "metadata": {},
   "outputs": [
    {
     "data": {
      "text/html": [
       "<div>\n",
       "<table border=\"1\" class=\"dataframe\">\n",
       "  <thead>\n",
       "    <tr style=\"text-align: right;\">\n",
       "      <th></th>\n",
       "      <th>User_ID</th>\n",
       "      <th>Description</th>\n",
       "      <th>Browser_Chrome</th>\n",
       "      <th>Browser_Edge</th>\n",
       "      <th>Browser_Firefox</th>\n",
       "      <th>Browser_IE</th>\n",
       "      <th>Browser_Opera</th>\n",
       "      <th>Browser_Safari</th>\n",
       "      <th>Device_Desktop</th>\n",
       "      <th>Device_Mobile</th>\n",
       "      <th>Device_Tablet</th>\n",
       "    </tr>\n",
       "  </thead>\n",
       "  <tbody>\n",
       "    <tr>\n",
       "      <th>0</th>\n",
       "      <td>id80132</td>\n",
       "      <td>Looking for a motel in close proximity to TV t...</td>\n",
       "      <td>0.0</td>\n",
       "      <td>0.0</td>\n",
       "      <td>0.0</td>\n",
       "      <td>0.0</td>\n",
       "      <td>0.0</td>\n",
       "      <td>0.0</td>\n",
       "      <td>0.0</td>\n",
       "      <td>1.0</td>\n",
       "      <td>0.0</td>\n",
       "    </tr>\n",
       "    <tr>\n",
       "      <th>1</th>\n",
       "      <td>id80133</td>\n",
       "      <td>Walking distance to Madison Square Garden and ...</td>\n",
       "      <td>0.0</td>\n",
       "      <td>0.0</td>\n",
       "      <td>0.0</td>\n",
       "      <td>1.0</td>\n",
       "      <td>0.0</td>\n",
       "      <td>0.0</td>\n",
       "      <td>1.0</td>\n",
       "      <td>0.0</td>\n",
       "      <td>0.0</td>\n",
       "    </tr>\n",
       "    <tr>\n",
       "      <th>2</th>\n",
       "      <td>id80134</td>\n",
       "      <td>Visited Seattle on business. Spent - nights in...</td>\n",
       "      <td>0.0</td>\n",
       "      <td>0.0</td>\n",
       "      <td>0.0</td>\n",
       "      <td>0.0</td>\n",
       "      <td>0.0</td>\n",
       "      <td>0.0</td>\n",
       "      <td>0.0</td>\n",
       "      <td>0.0</td>\n",
       "      <td>1.0</td>\n",
       "    </tr>\n",
       "    <tr>\n",
       "      <th>3</th>\n",
       "      <td>id80135</td>\n",
       "      <td>This hotel location is excellent and the rooms...</td>\n",
       "      <td>0.0</td>\n",
       "      <td>1.0</td>\n",
       "      <td>0.0</td>\n",
       "      <td>0.0</td>\n",
       "      <td>0.0</td>\n",
       "      <td>0.0</td>\n",
       "      <td>0.0</td>\n",
       "      <td>1.0</td>\n",
       "      <td>0.0</td>\n",
       "    </tr>\n",
       "    <tr>\n",
       "      <th>4</th>\n",
       "      <td>id80136</td>\n",
       "      <td>This hotel is awesome I love the service Antho...</td>\n",
       "      <td>0.0</td>\n",
       "      <td>0.0</td>\n",
       "      <td>1.0</td>\n",
       "      <td>0.0</td>\n",
       "      <td>0.0</td>\n",
       "      <td>0.0</td>\n",
       "      <td>0.0</td>\n",
       "      <td>1.0</td>\n",
       "      <td>0.0</td>\n",
       "    </tr>\n",
       "  </tbody>\n",
       "</table>\n",
       "</div>"
      ],
      "text/plain": [
       "   User_ID                                        Description  Browser_Chrome  \\\n",
       "0  id80132  Looking for a motel in close proximity to TV t...             0.0   \n",
       "1  id80133  Walking distance to Madison Square Garden and ...             0.0   \n",
       "2  id80134  Visited Seattle on business. Spent - nights in...             0.0   \n",
       "3  id80135  This hotel location is excellent and the rooms...             0.0   \n",
       "4  id80136  This hotel is awesome I love the service Antho...             0.0   \n",
       "\n",
       "   Browser_Edge  Browser_Firefox  Browser_IE  Browser_Opera  Browser_Safari  \\\n",
       "0           0.0              0.0         0.0            0.0             0.0   \n",
       "1           0.0              0.0         1.0            0.0             0.0   \n",
       "2           0.0              0.0         0.0            0.0             0.0   \n",
       "3           1.0              0.0         0.0            0.0             0.0   \n",
       "4           0.0              1.0         0.0            0.0             0.0   \n",
       "\n",
       "   Device_Desktop  Device_Mobile  Device_Tablet  \n",
       "0             0.0            1.0            0.0  \n",
       "1             1.0            0.0            0.0  \n",
       "2             0.0            0.0            1.0  \n",
       "3             0.0            1.0            0.0  \n",
       "4             0.0            1.0            0.0  "
      ]
     },
     "execution_count": 156,
     "metadata": {},
     "output_type": "execute_result"
    }
   ],
   "source": [
    "X_test2.head()"
   ]
  },
  {
   "cell_type": "code",
   "execution_count": null,
   "metadata": {
    "collapsed": true
   },
   "outputs": [],
   "source": []
  },
  {
   "cell_type": "code",
   "execution_count": 157,
   "metadata": {},
   "outputs": [
    {
     "data": {
      "text/plain": [
       "<29404x46016 sparse matrix of type '<class 'numpy.int64'>'\n",
       "\twith 2769087 stored elements in Compressed Sparse Row format>"
      ]
     },
     "execution_count": 157,
     "metadata": {},
     "output_type": "execute_result"
    }
   ],
   "source": [
    "X_test2_dtm = vect.transform(X_test2.Description)\n",
    "X_test2_dtm"
   ]
  },
  {
   "cell_type": "code",
   "execution_count": 163,
   "metadata": {},
   "outputs": [
    {
     "data": {
      "text/plain": [
       "LogisticRegression(C=1.0, class_weight=None, dual=False, fit_intercept=True,\n",
       "          intercept_scaling=1, max_iter=100, multi_class='ovr', n_jobs=1,\n",
       "          penalty='l2', random_state=None, solver='liblinear', tol=0.0001,\n",
       "          verbose=0, warm_start=False)"
      ]
     },
     "execution_count": 163,
     "metadata": {},
     "output_type": "execute_result"
    }
   ],
   "source": [
    "## from sklearn.naive_bayes import MultinomialNB\n",
    "## nb = MultinomialNB()\n",
    "from sklearn.linear_model import LogisticRegression\n",
    "nb = LogisticRegression()\n",
    "\n",
    "nb.fit(X_dtm, y)"
   ]
  },
  {
   "cell_type": "code",
   "execution_count": 164,
   "metadata": {
    "collapsed": true
   },
   "outputs": [],
   "source": [
    "y_pred2_class = nb.predict(X_test2_dtm)"
   ]
  },
  {
   "cell_type": "code",
   "execution_count": null,
   "metadata": {
    "collapsed": true
   },
   "outputs": [],
   "source": []
  },
  {
   "cell_type": "code",
   "execution_count": null,
   "metadata": {
    "collapsed": true
   },
   "outputs": [],
   "source": []
  },
  {
   "cell_type": "code",
   "execution_count": 165,
   "metadata": {
    "collapsed": true
   },
   "outputs": [],
   "source": [
    "final = pd.DataFrame({'User_ID':X_test2.User_ID, 'Is_Response':y_pred2_class}).set_index('User_ID')"
   ]
  },
  {
   "cell_type": "code",
   "execution_count": 166,
   "metadata": {
    "collapsed": true
   },
   "outputs": [],
   "source": [
    "final['Is_Response'] = final.Is_Response.map({1:'happy', 0:'not happy'})"
   ]
  },
  {
   "cell_type": "code",
   "execution_count": 167,
   "metadata": {
    "collapsed": true
   },
   "outputs": [],
   "source": [
    "final.to_csv('happiness_sub2_LR.csv')"
   ]
  }
 ],
 "metadata": {
  "kernelspec": {
   "display_name": "Python 3",
   "language": "python",
   "name": "python3"
  },
  "language_info": {
   "codemirror_mode": {
    "name": "ipython",
    "version": 3
   },
   "file_extension": ".py",
   "mimetype": "text/x-python",
   "name": "python",
   "nbconvert_exporter": "python",
   "pygments_lexer": "ipython3",
   "version": "3.6.4"
  }
 },
 "nbformat": 4,
 "nbformat_minor": 1
}
